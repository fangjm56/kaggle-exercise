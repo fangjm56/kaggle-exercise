{
 "cells": [
  {
   "cell_type": "code",
   "execution_count": 2,
   "metadata": {
    "collapsed": true
   },
   "outputs": [],
   "source": [
    "from sklearn.ensemble import RandomForestClassifier\n",
    "from sklearn.model_selection import GridSearchCV\n",
    "from sklearn import preprocessing\n",
    "from sklearn.model_selection import train_test_split\n",
    "import csv\n",
    "import numpy as np\n",
    "import h5py\n",
    "import matplotlib.pyplot as plt\n",
    "import math\n",
    "import h5py\n",
    "import scipy.io as sio"
   ]
  },
  {
   "cell_type": "code",
   "execution_count": 3,
   "metadata": {
    "collapsed": true
   },
   "outputs": [],
   "source": [
    "def save_result(file_name, result):\n",
    "    '''保存最终的预测结果\n",
    "    input:  file_name(string):保存最终结果的文件名\n",
    "            result(mat):最终的预测结果\n",
    "    '''\n",
    "    with open(file_name) as csvFile:\n",
    "        rows = csv.reader(csvFile)\n",
    "        with open(\"file3.csv\",'w', newline='') as f:\n",
    "            writer = csv.writer(f)\n",
    "            for index,row in enumerate(rows):\n",
    "                tmp_row = row\n",
    "                if index >= 1:\n",
    "                    # tmp_row[-1] = int(result[index-1,0])\n",
    "                    tmp_row[-1] = int(result[index-1])\n",
    "                writer.writerow(tmp_row)"
   ]
  },
  {
   "cell_type": "code",
   "execution_count": 4,
   "metadata": {
    "collapsed": true
   },
   "outputs": [],
   "source": [
    "def loadData(path):\n",
    "    '''\n",
    "        加载全部的训练样本和标签\n",
    "    '''\n",
    "    features = {}\n",
    "    labels = {}\n",
    "    with h5py.File(path, 'r') as f:\n",
    "#         print(list(f.keys()))\n",
    "        features = f['train_feat']\n",
    "        labels = f['train_label']\n",
    "        features = np.mat(features).T\n",
    "        labels = np.mat(labels).T\n",
    "        print(labels.shape)\n",
    "        print(features.shape)\n",
    "    return features,labels"
   ]
  },
  {
   "cell_type": "code",
   "execution_count": 5,
   "metadata": {
    "collapsed": true
   },
   "outputs": [],
   "source": [
    "def loadTestData(path):\n",
    "    features = {}\n",
    "    with h5py.File(path, 'r') as f:\n",
    "#         print(list(f.keys()))\n",
    "        features = f['test_feat']\n",
    "        features = np.mat(features).T\n",
    "        print(features.shape)\n",
    "    return features"
   ]
  },
  {
   "cell_type": "code",
   "execution_count": 6,
   "metadata": {
    "collapsed": true
   },
   "outputs": [],
   "source": [
    "    file_train = \"train_data.mat\"\n",
    "    file_test = 'test_data_raw.mat'\n",
    "    file_out = 'submission_sample.csv'\n",
    "    file_training_set = \"training_set.mat\"\n",
    "    file_validation_set = \"validation_set.mat\""
   ]
  },
  {
   "cell_type": "code",
   "execution_count": 7,
   "metadata": {},
   "outputs": [
    {
     "name": "stdout",
     "output_type": "stream",
     "text": [
      "------------------加载数据---------------\n",
      "(76240, 1)\n",
      "(76240, 6812)\n"
     ]
    }
   ],
   "source": [
    "print(\"------------------加载数据---------------\")\n",
    "training_feat, training_label = loadData(file_train)"
   ]
  },
  {
   "cell_type": "code",
   "execution_count": 8,
   "metadata": {},
   "outputs": [
    {
     "name": "stdout",
     "output_type": "stream",
     "text": [
      "------------------数据预处理---------------\n"
     ]
    }
   ],
   "source": [
    "print(\"------------------数据预处理---------------\")\n",
    "x_mean = training_feat.mean(axis=0)\n",
    "x_std = training_feat.std(axis=0)\n",
    "X = (training_feat-x_mean)/x_std"
   ]
  },
  {
   "cell_type": "code",
   "execution_count": null,
   "metadata": {},
   "outputs": [],
   "source": [
    "X_train, X_test, y_train, y_test = train_test_split(X, training_label, test_size=0.1, random_state=400)"
   ]
  },
  {
   "cell_type": "code",
   "execution_count": null,
   "metadata": {},
   "outputs": [
    {
     "name": "stderr",
     "output_type": "stream",
     "text": [
      "C:\\Users\\jiamoufang\\Anaconda3\\lib\\site-packages\\sklearn\\model_selection\\_split.py:605: Warning: The least populated class in y has only 1 members, which is too few. The minimum number of members in any class cannot be less than n_splits=3.\n",
      "  % (min_groups, self.n_splits)), Warning)\n"
     ]
    }
   ],
   "source": [
    "X_train_batch = X_train[0:5000,:]\n",
    "y_train_batch = y_train[0:5000]\n",
    "feat_n_list = list([40,50,60,70,80,90,100,110,120,130,140,150,160,170,180,190,200])\n",
    "parameters = {'n_estimators':list([95]),'criterion':list(['gini']),'max_features':feat_n_list}\n",
    "rfc = RandomForestClassifier()\n",
    "gs = GridSearchCV(rfc, parameters,n_jobs =3,return_train_score =True,cv=3,refit=True)\n",
    "gs.fit(X_train_batch,y_train_batch.ravel())\n"
   ]
  },
  {
   "cell_type": "code",
   "execution_count": 10,
   "metadata": {},
   "outputs": [
    {
     "ename": "NameError",
     "evalue": "name 'gs' is not defined",
     "output_type": "error",
     "traceback": [
      "\u001b[1;31m---------------------------------------------------------------------------\u001b[0m",
      "\u001b[1;31mNameError\u001b[0m                                 Traceback (most recent call last)",
      "\u001b[1;32m<ipython-input-10-5706ede786fc>\u001b[0m in \u001b[0;36m<module>\u001b[1;34m()\u001b[0m\n\u001b[1;32m----> 1\u001b[1;33m \u001b[0mprint\u001b[0m\u001b[1;33m(\u001b[0m\u001b[0mgs\u001b[0m\u001b[1;33m.\u001b[0m\u001b[0mget_params\u001b[0m\u001b[1;33m(\u001b[0m\u001b[1;33m)\u001b[0m\u001b[1;33m)\u001b[0m\u001b[1;33m\u001b[0m\u001b[0m\n\u001b[0m",
      "\u001b[1;31mNameError\u001b[0m: name 'gs' is not defined"
     ]
    }
   ],
   "source": [
    "print(gs.get_params())"
   ]
  },
  {
   "cell_type": "code",
   "execution_count": 64,
   "metadata": {},
   "outputs": [
    {
     "name": "stdout",
     "output_type": "stream",
     "text": [
      "{'mean_fit_time': array([ 149.45199124,  149.56226428]), 'std_fit_time': array([ 7.20114909,  5.53552294]), 'mean_score_time': array([ 0.6680003 ,  0.63376546]), 'std_score_time': array([ 0.05158464,  0.07190362]), 'param_criterion': masked_array(data = ['gini' 'entropy'],\n",
      "             mask = [False False],\n",
      "       fill_value = ?)\n",
      ", 'param_n_estimators': masked_array(data = [95 95],\n",
      "             mask = [False False],\n",
      "       fill_value = ?)\n",
      ", 'params': [{'criterion': 'gini', 'n_estimators': 95}, {'criterion': 'entropy', 'n_estimators': 95}], 'split0_test_score': array([ 0.0955025 ,  0.08273182]), 'split1_test_score': array([ 0.0966967 ,  0.08768769]), 'split2_test_score': array([ 0.08604954,  0.09191656]), 'mean_test_score': array([ 0.093 ,  0.0872]), 'std_test_score': array([ 0.00465054,  0.0037544 ]), 'rank_test_score': array([1, 2]), 'split0_train_score': array([ 1.,  1.]), 'split1_train_score': array([ 1.,  1.]), 'split2_train_score': array([ 1.,  1.]), 'mean_train_score': array([ 1.,  1.]), 'std_train_score': array([ 0.,  0.])}\n"
     ]
    }
   ],
   "source": [
    "print(gs.cv_results_ )"
   ]
  },
  {
   "cell_type": "code",
   "execution_count": 60,
   "metadata": {},
   "outputs": [
    {
     "name": "stdout",
     "output_type": "stream",
     "text": [
      "RandomForestClassifier(bootstrap=True, class_weight=None, criterion='gini',\n",
      "            max_depth=None, max_features='auto', max_leaf_nodes=None,\n",
      "            min_impurity_decrease=0.0, min_impurity_split=None,\n",
      "            min_samples_leaf=1, min_samples_split=2,\n",
      "            min_weight_fraction_leaf=0.0, n_estimators=95, n_jobs=1,\n",
      "            oob_score=False, random_state=None, verbose=0,\n",
      "            warm_start=False)\n"
     ]
    }
   ],
   "source": [
    "print(gs.best_estimator_ )"
   ]
  },
  {
   "cell_type": "code",
   "execution_count": 61,
   "metadata": {},
   "outputs": [
    {
     "name": "stdout",
     "output_type": "stream",
     "text": [
      "0.093\n",
      "{'criterion': 'gini', 'n_estimators': 95}\n"
     ]
    }
   ],
   "source": [
    "print(gs.best_score_ )\n",
    "print(gs.best_params_ )\n",
    "scores = gs.cv_results_['mean_test_score']\n",
    "scores_std = gs.cv_results_['std_test_score']"
   ]
  },
  {
   "cell_type": "code",
   "execution_count": 63,
   "metadata": {},
   "outputs": [
    {
     "data": {
      "text/plain": [
       "array([ 0.093 ,  0.0872])"
      ]
     },
     "execution_count": 63,
     "metadata": {},
     "output_type": "execute_result"
    }
   ],
   "source": [
    "scores"
   ]
  },
  {
   "cell_type": "code",
   "execution_count": 62,
   "metadata": {},
   "outputs": [
    {
     "data": {
      "text/plain": [
       "1.0"
      ]
     },
     "execution_count": 62,
     "metadata": {},
     "output_type": "execute_result"
    }
   ],
   "source": [
    "gs.score(X_train_batch,y_train_batch)"
   ]
  },
  {
   "cell_type": "code",
   "execution_count": 50,
   "metadata": {
    "scrolled": true
   },
   "outputs": [
    {
     "data": {
      "image/png": "[encoded data removed]",
      "text/plain": [
       "<matplotlib.figure.Figure at 0x23fb293c898>"
      ]
     },
     "metadata": {},
     "output_type": "display_data"
    }
   ],
   "source": [
    "n_estimators = [30, 35, 40, 45, 50, 55, 60, 65, 70, 75, 80, 85, 90, 95, 100]\n",
    "plt.figure().set_size_inches(8, 6)\n",
    "plt.plot(n_estimators, scores)\n",
    "std_error = scores_std / np.sqrt(3)\n",
    "plt.plot(n_estimators, scores + std_error, 'b--')\n",
    "plt.plot(n_estimators, scores - std_error, 'b--')\n",
    "# plt.plot(n_estimators,[ 0.0582,  0.065 ,  0.0756,  0.0746,  0.0738,  0.0836,  0.082 ,\n",
    "#         0.0856,  0.092 ,  0.0922,  0.0884,  0.0954,  0.0954,  0.0984,\n",
    "#         0.0936])\n",
    "plt.fill_between(n_estimators, scores + std_error, scores - std_error, alpha=0.2)\n",
    "plt.axhline(np.max(scores), linestyle='--', color='.5')\n",
    "plt.plot(n_estimators,[ 0.0582,  0.065 ,  0.0756,  0.0746,  0.0738,  0.0836,  0.082 ,\n",
    "        0.0856,  0.092 ,  0.0922,  0.0884,  0.0954,  0.0954,  0.0984,\n",
    "        0.0936])\n",
    "plt.title('3-folder validation accuracy')\n",
    "plt.xlabel('n_estimators'),plt.ylabel('Accuracy')\n",
    "plt.show()"
   ]
  },
  {
   "cell_type": "code",
   "execution_count": 68,
   "metadata": {},
   "outputs": [
    {
     "data": {
      "image/png": "[encoded data removed]",
      "text/plain": [
       "<matplotlib.figure.Figure at 0x23fb266ed30>"
      ]
     },
     "metadata": {},
     "output_type": "display_data"
    }
   ],
   "source": [
    "criterion = ['gini','entropy']\n",
    "plt.figure().set_size_inches(8, 6)\n",
    "plt.plot(criterion,scores)\n",
    "plt.axhline(np.max(scores), linestyle='--', color='.5')\n",
    "plt.axhline(np.min(scores), linestyle='--', color='.5')\n",
    "plt.show()"
   ]
  },
  {
   "cell_type": "code",
   "execution_count": null,
   "metadata": {
    "collapsed": true
   },
   "outputs": [],
   "source": [
    "clf = RandomForestClassifier(n_estimators=40)\n",
    "clf.fit(X_train_batch,y_train_batch)"
   ]
  },
  {
   "cell_type": "code",
   "execution_count": null,
   "metadata": {
    "collapsed": true
   },
   "outputs": [],
   "source": [
    "print(clf.feature_importances_)\n"
   ]
  }
 ],
 "metadata": {
  "kernelspec": {
   "display_name": "Python 3",
   "language": "python",
   "name": "python3"
  },
  "language_info": {
   "codemirror_mode": {
    "name": "ipython",
    "version": 3
   },
   "file_extension": ".py",
   "mimetype": "text/x-python",
   "name": "python",
   "nbconvert_exporter": "python",
   "pygments_lexer": "ipython3",
   "version": "3.6.3"
  }
 },
 "nbformat": 4,
 "nbformat_minor": 2
}
