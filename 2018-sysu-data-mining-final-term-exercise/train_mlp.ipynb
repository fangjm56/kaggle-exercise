{
 "cells": [
  {
   "cell_type": "code",
   "execution_count": 6,
   "metadata": {
    "collapsed": true
   },
   "outputs": [],
   "source": [
    "import numpy as np\n",
    "import matplotlib.pyplot as plt\n",
    "import scipy.io as sio\n",
    "from sklearn import preprocessing\n",
    "import csv\n",
    "import h5py\n",
    "from sklearn.neural_network import MLPClassifier\n",
    "from sklearn.model_selection import train_test_split"
   ]
  },
  {
   "cell_type": "code",
   "execution_count": 2,
   "metadata": {
    "collapsed": true
   },
   "outputs": [],
   "source": [
    "def loadData(path):\n",
    "    '''\n",
    "        加载全部的训练样本和标签\n",
    "    '''\n",
    "    features = {}\n",
    "    labels = {}\n",
    "    with h5py.File(path, 'r') as f:\n",
    "#         print(list(f.keys()))\n",
    "        features = f['train_feat']\n",
    "        labels = f['train_label']\n",
    "        features = np.mat(features).T\n",
    "        labels = np.mat(labels).T\n",
    "        print(labels.shape)\n",
    "        print(features.shape)\n",
    "    return features,labels"
   ]
  },
  {
   "cell_type": "code",
   "execution_count": 3,
   "metadata": {
    "collapsed": true
   },
   "outputs": [],
   "source": [
    "def loadTestData(path):\n",
    "    features = {}\n",
    "    with h5py.File(path, 'r') as f:\n",
    "#         print(list(f.keys()))\n",
    "        features = f['test_feat']\n",
    "        features = np.mat(features).T\n",
    "        print(features.shape)\n",
    "    return features"
   ]
  },
  {
   "cell_type": "code",
   "execution_count": 3,
   "metadata": {
    "collapsed": true
   },
   "outputs": [],
   "source": [
    "    file_train = \"train_data.mat\"\n",
    "    file_test = 'test_data_raw.mat'\n",
    "    file_out = 'submission_sample.csv'\n",
    "    file_training_set = \"training_set.mat\"\n",
    "    file_validation_set = \"validation_set.mat\""
   ]
  },
  {
   "cell_type": "code",
   "execution_count": 6,
   "metadata": {},
   "outputs": [
    {
     "name": "stdout",
     "output_type": "stream",
     "text": [
      "------------------1. 加载训练数据---------------\n",
      "(76240, 1)\n",
      "(76240, 6812)\n"
     ]
    }
   ],
   "source": [
    "print(\"------------------1. 加载训练数据---------------\")\n",
    "training_feat, training_label = loadData(file_train)"
   ]
  },
  {
   "cell_type": "code",
   "execution_count": null,
   "metadata": {},
   "outputs": [
    {
     "name": "stdout",
     "output_type": "stream",
     "text": [
      "------------------2. 打乱训练数据---------------\n"
     ]
    }
   ],
   "source": [
    "print(\"------------------2. 打乱训练数据---------------\")\n",
    "training_data = np.hstack([training_feat, training_label])\n",
    "np.random.shuffle(training_data)\n",
    "X_train = training_data[:, :-1]\n",
    "y_train = training_data[:, -1]"
   ]
  },
  {
   "cell_type": "code",
   "execution_count": null,
   "metadata": {
    "collapsed": true
   },
   "outputs": [],
   "source": [
    "print(\"------------------3. 数据均值归一化---------------\")\n",
    "x_mean = X_train.mean(axis=0)\n",
    "x_std = X_train.std(axis=0)\n",
    "X_train = (X_train-x_mean)/x_std"
   ]
  },
  {
   "cell_type": "code",
   "execution_count": null,
   "metadata": {
    "collapsed": true
   },
   "outputs": [],
   "source": [
    "print(\"------------------4. 数据均值归一化（保存）---------------\")\n",
    "sio.savemat('X_train.mat',{'X_train':X_train})\n",
    "sio.savemat('y_train.mat',{'y_train':y_train})"
   ]
  },
  {
   "cell_type": "code",
   "execution_count": 7,
   "metadata": {},
   "outputs": [
    {
     "name": "stdout",
     "output_type": "stream",
     "text": [
      "------------------------导入数据集-------------------------\n",
      "(76240, 6812)\n",
      "(76240, 1)\n"
     ]
    }
   ],
   "source": [
    "print('------------------------导入数据集-------------------------')\n",
    "X_train = sio.loadmat('X_train.mat')['X_train']\n",
    "y_train = sio.loadmat('y_train.mat')['y_train']\n",
    "print(X_train.shape)\n",
    "print(y_train.shape)"
   ]
  },
  {
   "cell_type": "code",
   "execution_count": 13,
   "metadata": {},
   "outputs": [
    {
     "data": {
      "image/png": "[encoded data removed]",
      "text/plain": [
       "<matplotlib.figure.Figure at 0x1ca6e4ff240>"
      ]
     },
     "metadata": {},
     "output_type": "display_data"
    }
   ],
   "source": [
    "plt.figure()\n",
    "plt.plot(X_train[10000,5000:6000])\n",
    "plt.show()"
   ]
  },
  {
   "cell_type": "code",
   "execution_count": null,
   "metadata": {
    "collapsed": true
   },
   "outputs": [],
   "source": [
    "print('------------------------分割数据集-------------------------')\n",
    "X_train, X_test, y_train, y_test = train_test_split(X, training_label, test_size=0.1, random_state=400)\n",
    "sio.savemat('X_train.mat',{'X_train':X_train})\n",
    "sio.savemat('X_test.mat',{'X_test':X_test})\n",
    "sio.savemat('y_train.mat',{'y_train':y_train})\n",
    "sio.savemat('y_test.mat',{'y_test':y_test})"
   ]
  },
  {
   "cell_type": "code",
   "execution_count": 4,
   "metadata": {},
   "outputs": [
    {
     "name": "stdout",
     "output_type": "stream",
     "text": [
      "------------------------导入数据集-------------------------\n",
      "(68616, 6812)\n",
      "(68616, 1)\n"
     ]
    }
   ],
   "source": [
    "print('------------------------导入分割后的数据集-------------------------')\n",
    "X_train = sio.loadmat('X_train.mat')['X_train']\n",
    "X_test = sio.loadmat('X_test.mat')['X_test']\n",
    "y_train = sio.loadmat('y_train.mat')['y_train']\n",
    "y_test = sio.loadmat('y_test.mat')['y_test']\n",
    "print(X_train.shape)\n",
    "print(y_train.shape)"
   ]
  },
  {
   "cell_type": "code",
   "execution_count": null,
   "metadata": {},
   "outputs": [
    {
     "name": "stdout",
     "output_type": "stream",
     "text": [
      "-------------------------开始训练----------------------------\n"
     ]
    },
    {
     "name": "stderr",
     "output_type": "stream",
     "text": [
      "C:\\Users\\jiamoufang\\Anaconda3\\lib\\site-packages\\sklearn\\neural_network\\multilayer_perceptron.py:912: DataConversionWarning: A column-vector y was passed when a 1d array was expected. Please change the shape of y to (n_samples, ), for example using ravel().\n",
      "  y = column_or_1d(y, warn=True)\n"
     ]
    }
   ],
   "source": [
    "print(\"-------------------------开始训练----------------------------\")\n",
    "mlp = MLPClassifier(solver='sgd',learning_rate_init  = 0.1, alpha=0.0001, max_iter=120,shuffle = True, \n",
    "                    activation='logistic',batch_size=128,verbose=True,\n",
    "                   hidden_layer_sizes=(1200,))\n",
    "mlp.fit(X_train,y_train)"
   ]
  },
  {
   "cell_type": "code",
   "execution_count": 33,
   "metadata": {},
   "outputs": [
    {
     "name": "stdout",
     "output_type": "stream",
     "text": [
      "--------------------------训练准确率------------------------\n",
      "1.0\n"
     ]
    }
   ],
   "source": [
    "print(\"--------------------------训练准确率------------------------\")\n",
    "print(mlp.score(X_train,y_train))"
   ]
  },
  {
   "cell_type": "code",
   "execution_count": 32,
   "metadata": {},
   "outputs": [
    {
     "name": "stdout",
     "output_type": "stream",
     "text": [
      "3\n",
      "40\n",
      "0.00780301400025\n",
      "softmax\n",
      "(1200,)\n"
     ]
    }
   ],
   "source": [
    "print (mlp.n_layers_)\n",
    "print(mlp.n_iter_)\n",
    "print( mlp.loss_)\n",
    "print (mlp.out_activation_)\n",
    "print (mlp.hidden_layer_sizes)"
   ]
  },
  {
   "cell_type": "code",
   "execution_count": 34,
   "metadata": {},
   "outputs": [
    {
     "name": "stdout",
     "output_type": "stream",
     "text": [
      "-------------------开始验证----------------\n",
      "------------------验证准确率---------------\n",
      "0.361621196222\n"
     ]
    }
   ],
   "source": [
    "    print(\"-------------------开始验证----------------\")\n",
    "#     validation_set = training_set = sio.loadmat(file_validation_set)['validation_set']\n",
    "#     vm,vn = validation_set.shape\n",
    "#     validation_feat = validation_set[:,0:vn-1]\n",
    "# #     mean normalize\n",
    "#     validation_feat_scale = scaler.transform(validation_feat)\n",
    "#     validation_feat_norm = preprocessing.normalize(validation_feat_scale, norm='l2')\n",
    "    \n",
    "#     validation_label = validation_set[:,-1]\n",
    "    \n",
    "#     vali_y_pred = mlp.predict(X_test)\n",
    "    \n",
    "#     validation_acc = metrics.accuracy_score(y_test,vali_y_pred)\n",
    "    print(\"------------------验证准确率---------------\")\n",
    "#     print(validation_acc)\n",
    "    print(mlp.score(X_test,y_test))"
   ]
  },
  {
   "cell_type": "code",
   "execution_count": 35,
   "metadata": {
    "collapsed": true
   },
   "outputs": [],
   "source": [
    "def save_result(file_name, result):\n",
    "    '''保存最终的预测结果\n",
    "    input:  file_name(string):保存最终结果的文件名\n",
    "            result(mat):最终的预测结果\n",
    "    '''\n",
    "    with open(file_name) as csvFile:\n",
    "        rows = csv.reader(csvFile)\n",
    "        with open(\"file_n_hidden_1200_adaptive.csv\",'w', newline='') as f:\n",
    "            writer = csv.writer(f)\n",
    "            for index,row in enumerate(rows):\n",
    "                tmp_row = row\n",
    "                if index >= 1:\n",
    "                    # tmp_row[-1] = int(result[index-1,0])\n",
    "                    tmp_row[-1] = int(result[index-1])\n",
    "                writer.writerow(tmp_row)"
   ]
  },
  {
   "cell_type": "code",
   "execution_count": 36,
   "metadata": {},
   "outputs": [
    {
     "name": "stdout",
     "output_type": "stream",
     "text": [
      "------------------开始测试---------------\n",
      "(19850, 6812)\n",
      "--------------------保存结果----------------\n",
      "(19850,)\n",
      "--------------------保存模型----------------\n"
     ]
    }
   ],
   "source": [
    "    print(\"------------------开始测试---------------\")\n",
    "    test_feat = loadTestData(file_test)\n",
    "    test_mean = test_feat.mean(axis=0)\n",
    "    test_std = test_feat.std(axis=0)\n",
    "    test_feat_scaled = (test_feat-test_mean)/test_std\n",
    "    p = mlp.predict(test_feat_scaled)\n",
    "    \n",
    "    print(\"--------------------保存结果----------------\")\n",
    "    print(p.shape)\n",
    "    save_result(file_out,np.mat(p).T)\n",
    "    print(\"--------------------保存模型----------------\")"
   ]
  },
  {
   "cell_type": "code",
   "execution_count": 37,
   "metadata": {},
   "outputs": [
    {
     "name": "stdout",
     "output_type": "stream",
     "text": [
      "{'activation': 'logistic', 'alpha': 0.0001, 'batch_size': 128, 'beta_1': 0.9, 'beta_2': 0.999, 'early_stopping': False, 'epsilon': 1e-08, 'hidden_layer_sizes': (1200,), 'learning_rate': 'adaptive', 'learning_rate_init': 0.1, 'max_iter': 80, 'momentum': 0.9, 'nesterovs_momentum': True, 'power_t': 0.5, 'random_state': None, 'shuffle': True, 'solver': 'sgd', 'tol': 0.0001, 'validation_fraction': 0.1, 'verbose': True, 'warm_start': False}\n"
     ]
    }
   ],
   "source": [
    "print(mlp.get_params())"
   ]
  },
  {
   "cell_type": "code",
   "execution_count": null,
   "metadata": {
    "collapsed": true
   },
   "outputs": [],
   "source": []
  },
  {
   "cell_type": "code",
   "execution_count": 38,
   "metadata": {
    "collapsed": true
   },
   "outputs": [],
   "source": [
    "def readFile(filename):\n",
    "    labels_pred =[]\n",
    "    with open(filename) as f:\n",
    "        reader = csv.reader(f)\n",
    "        for index,row in enumerate(reader):\n",
    "            if index > 0:\n",
    "                labels_pred.append(int(row[-1]))\n",
    "    return labels_pred"
   ]
  },
  {
   "cell_type": "code",
   "execution_count": 39,
   "metadata": {
    "collapsed": true
   },
   "outputs": [],
   "source": [
    "labels_pred_1 = readFile('file_n_hidden_1200_adaptive.csv')\n",
    "labels_pred = readFile('file_n_hidden_1200.csv')"
   ]
  },
  {
   "cell_type": "code",
   "execution_count": 40,
   "metadata": {},
   "outputs": [
    {
     "data": {
      "text/plain": [
       "0.6703274559193955"
      ]
     },
     "execution_count": 40,
     "metadata": {},
     "output_type": "execute_result"
    }
   ],
   "source": [
    "l = len(labels_pred_1)\n",
    "count = 0\n",
    "for i in range(l):\n",
    "    if labels_pred_1[i] == labels_pred[i]:\n",
    "        count = count + 1\n",
    "count/l"
   ]
  },
  {
   "cell_type": "code",
   "execution_count": null,
   "metadata": {
    "collapsed": true
   },
   "outputs": [],
   "source": []
  },
  {
   "cell_type": "code",
   "execution_count": null,
   "metadata": {
    "collapsed": true
   },
   "outputs": [],
   "source": []
  }
 ],
 "metadata": {
  "kernelspec": {
   "display_name": "Python 3",
   "language": "python",
   "name": "python3"
  },
  "language_info": {
   "codemirror_mode": {
    "name": "ipython",
    "version": 3
   },
   "file_extension": ".py",
   "mimetype": "text/x-python",
   "name": "python",
   "nbconvert_exporter": "python",
   "pygments_lexer": "ipython3",
   "version": "3.6.3"
  }
 },
 "nbformat": 4,
 "nbformat_minor": 2
}
